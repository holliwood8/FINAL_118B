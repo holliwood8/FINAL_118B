{
 "cells": [
  {
   "cell_type": "markdown",
   "metadata": {},
   "source": [
    "# COGS 118B - Project Proposal"
   ]
  },
  {
   "cell_type": "markdown",
   "metadata": {},
   "source": [
    "# Names\n",
    "\n",
    "- Olimpia Carrioli\n",
    "- Vladimir Em\n",
    "- Adolfo Valencia"
   ]
  },
  {
   "cell_type": "markdown",
   "metadata": {},
   "source": [
    "# Abstract \n",
    "Our project aims at facilitating the process of finding and segmenting brain tumors from MRI imaging. For our data we will unify 3 data sets from 3 iterations of the 'Brain Tumor Segmentation' challenge.The data sets in question are BRATS2020, BRATS2019, BRATS2018. These data represent a collection of 3D MRI scans collected over 3 years. The following is measured in the data set: native scans (T1) and post-contrast T1-weighted (T1Gd) scans T2-weighted (T2) scans, and T2 Fluid Attenuated Inversion Recovery (T2-FLAIR) volumes. We will utilize Fuzzy C-Means clustering for tumor segmentation. We will rely on Silhouette Score, Davies-Bouldin Index, Calinski-Harabasz Index, Adjusted Rand Index and Normalized Mutual Information as our metrics to measure performance of our model."
   ]
  },
  {
   "cell_type": "markdown",
   "metadata": {},
   "source": [
    "# Background"
   ]
  },
  {
   "cell_type": "markdown",
   "metadata": {},
   "source": [
    "Brain tumor segmentation is a long-standing challenge in the medical field: the development of accurate and efficient techniques to detect brain tumors from medical imaging such as MRI (magnetic resonance imaging) would make diagnosis more accessible and facilitate prompt treatment. \n",
    "\n",
    "Historically, brain tumor segmentation has been based on simple yet effective threshold techniques, where an intensity value is selected as threshold, and voxels (3-dimensional pixels) with higher intensity are marked as tumor tissue<a name=\"threshold\"></a>[<sup>[1]</sup>](#threshold).\n",
    "\n",
    "In recent years the development of neural networks has improved the accuracy of MRI tumor detection. One well-performing family of architectures are Convolutional Neural Networks, in which an MRI image is convolved with several kernels, allowing for the detection of tumor-like features and ultimately the segmentation of the tumor itself<a name=\"CNN\"></a>[<sup>[2]</sup>](#CNN). Critically, CNNs must be trained on labeled data, hence they require the manual expert segmentation of brain tumors. Given that a large dataset is essential for optimal training, the need for manually segmented images represents a drawback of this architecture.   \n",
    "\n",
    "Even more accurate brain tumor segmentation is achieved though the SOTA technique of U-NETs, developed by Olaf Ronnenberg and colleagues in 2015 for medical imaging segmentation<a name=\"U-NET\"></a>[<sup>[3]</sup>](#U-NET). U-NET architectures harness an encoding path (for downsampling, similar to a CNN) and a decoding path (for upsampling, through successive convolutions and upsampling operations) to precisely localize tumors with limited datasets, which is revolutionary for the field and a leap from traditional CNNs<a name=\"3DU-NET\"></a>[<sup>[4]</sup>](#3DU-NET).\n",
    "\n"]
   },
  {
   "cell_type": "markdown",
   "metadata": {},
   "source": [
    "# Problem Statement\n",
    "\n",
    "This project is aimed at tackling the problem of automatic brain tumor semantic segmentation from medical imaging. More specifically, given a high-resolution (1x1x1mm) MRI image of the brain, we aim at identifying each and all the voxels that belong to the tumor, assigning them a label of 1 (tumor) or 0 (non-tumor). This task is relevant to machine-learning, as it involves clustering algorithms and neural-network-based solutions."
   ]
  },
  {
   "cell_type": "markdown",
   "metadata": {},
   "source": [
    "# Data \n",
    "### Dataset 1: BRATS 2018 <a name=\"BRATS1\"></a>[<sup>[5]</sup>](#BRATS1) <a name=\"BRATS2\"></a>[<sup>[6]</sup>](#BRATS2) <a name=\"BRATS3\"></a>[<sup>[7]</sup>](#BRATS3)\n",
    "- https://www.kaggle.com/datasets/harshitsinghai/miccai-brats2018-original-dataset?select=MICCAI_BraTS_2018_Data_Validation \n",
    "- This dataset contains 351 MRI brain volumes of patients with malignant high-grade glioma (HGG) and low-grade gliomas (LGG).\n",
    "- The scans are stored as NIfTI files (.nii.gz) and are presented with 4 different contrasts to enhance the tumor visibility:\n",
    "    - native (T1)\n",
    "    - post-contrast T1-weighted (T1Gd)\n",
    "    - T2-weighted (T2)\n",
    "    - T2 Fluid Attenuated Inversion Recovery (FLAIR)\n",
    "- 285 volumes have ground-truth brain-tumor segmentation done by hand and approved by neuro-radiologists, also stored in NIfTI format.\n",
    "- The volumes' resolution is 1x1x1mm.\n",
    "- The dataset includes a csv file of overall survival of each patient in days, age of patients, and resection status.\n",
    "\n",
    "### Dataset 2: BRATS 2019 <a name=\"BRATS1\"></a>[<sup>[5]</sup>](#BRATS1) <a name=\"BRATS2\"></a>[<sup>[6]</sup>](#BRATS2) <a name=\"BRATS3\"></a>[<sup>[7]</sup>](#BRATS3)\n",
    "- https://www.kaggle.com/datasets/aryashah2k/brain-tumor-segmentation-brats-2019?select=MICCAI_BraTS_2019_Data_Training \n",
    "- This dataset contains 335 MRI brain volumes of patients with malignant high-grade glioma (HGG - 259 instances) and low-grade gliomas (LGG - 76 instances).\n",
    "- The scans are stored as NIfTI files (.nii.gz) and are presented with 4 different contrasts to enhance the tumor visibility:\n",
    "    - native (T1)\n",
    "    - post-contrast T1-weighted (T1Gd)\n",
    "    - T2-weighted (T2)\n",
    "    - T2 Fluid Attenuated Inversion Recovery (FLAIR)\n",
    "- All the volumes have ground-truth brain-tumor segmentation done by hand and approved by neuro-radiologists, also stored in NIfTI format.\n",
    "- The volumes' resolution is 1x1x1mm.\n",
    "- The dataset includes a csv file of overall survival of each patient in days, age of patients, and resection status.\n",
    "\n",
    "### Dataset 3: BRATS 2020 <a name=\"BRATS1\"></a>[<sup>[5]</sup>](#BRATS1) <a name=\"BRATS2\"></a>[<sup>[6]</sup>](#BRATS2) <a name=\"BRATS3\"></a>[<sup>[7]</sup>](#BRATS3)\n",
    "- https://www.kaggle.com/datasets/awsaf49/brats2020-training-data \n",
    "- This dataset contains 494 MRI brain volumes of patients with malignant high-grade glioma (HGG) and low-grade gliomas (LGG).\n",
    "- The scans are stored as NIfTI files (.nii.gz) and are presented with 4 different contrasts to enhance the tumor visibility:\n",
    "    - native (T1)\n",
    "    - post-contrast T1-weighted (T1Gd)\n",
    "    - T2-weighted (T2)\n",
    "    - T2 Fluid Attenuated Inversion Recovery (FLAIR)\n",
    "- 369 volumes have ground-truth brain-tumor segmentation done by hand and approved by neuro-radiologists, also stored in NIfTI format.\n",
    "- The volumes' resolution is 1x1x1mm.\n",
    "- The dataset includes a csv file of overall survival of each patient in days, age of patients, and resection status.\n",
    "\n",
    "### Data handling\n",
    "- We will merge the tree datasets to obtain a total of 1180 brain volumes (989 of which have a ground-truth brain segmentation). \n",
    "- We will handle the data using the Nilearn library, an MRI-specific python package."
   ]
  },
  {
   "cell_type": "markdown",
   "metadata": {},
   "source": [
    "# Proposed Solution\n",
    "\n",
    "For our solution we will utilize Fuzzy C-Means. Soft clustering will allows us to assign voxels to multiple classes with varying degrees of membership. This apporach seemlessly pairs with our data set, since the data set provides us with a variety of high-resolution 3D scans. We will rely mostly on a Python implementation using scikit-fuzzy. The data will be pre-processed using Nilearn, an MRI-specific python library. The C-Means model will output the segmented version of the brain volume. This will be a mask in which each voxel has assigned a value corresponding to the probability of it being tumor tissue. We will evaluate the segmentation by keeping track of a few key metrics: Silhouette Score, Davies-Bouldin Index, Calinski-Harabasz Index, Adjusted Rand Index and Normalized Mutual Information.\n",
    "\n",
    "The algorithm itself consists of the following steps:\n",
    "\n",
    "Initialization - Here we choose the number of clusters and initialize cluster centers.\n",
    "\n",
    "Membership Assignment - Here we calculate the probability of each voxel belonging to each cluster.\n",
    "\n",
    "Cluster Center Update - Here we calculate the updated weights, so that the centers represent the mean feature of the cluster.\n",
    "\n",
    "Iteration - Perform the previous 2 steps until changes in clusters are below a certain threshold.\n",
    "\n",
    "\n",
    "Post-processing - Perform the segmentation and generate the output."
   ]
  },
  {
   "cell_type": "markdown",
   "metadata": {},
   "source": [
    "# Evaluation Metrics\n",
    "\n",
    "The following metrics will be used:\n",
    "\n",
    "**Silhouette Score** - assesses the cohesion and separation of the clusters. The score is assigned in the range -1 (incorrect clustering) to 1 (highly dense clustering), where a higher value indicates a better performance of the algorithm. For each point $i$, the silhouette score is defined as:   $s(i) = \\frac{b(i) - a(i)}{\\max{a(i), b(i)}}$.   \n",
    "\n",
    "- $a(i)$ is the mean distance between point $i$ and all other points in the same cluster, and \n",
    "- $b(i)$ is the mean distance of $i$ to all points in the nearest cluster.\n",
    "\n",
    "**Davies-Bouldin Index** - this index measures the ratio between within-cluster scatter to between-cluster separation, where lower values are better since they indicate more concentrated far-apart clusters. The Davies-Bouldin index is defined as: \n",
    "$DB = \\frac{1}{k} \\sum{i=1}^{k} \\max{j \\neq i} \\left( \\frac{\\sigma_i + \\sigma_j}{d(c_i, c_j)} \\right)$  \n",
    "\n",
    "- $k$ is the number of clusters,\n",
    "- $\\sigma_i$ is the mean distance of all points in cluster $i$ to the mean of that cluster ($c_i$)\n",
    "- $d(c_i, c_j)$ is the distance between any 2 means $c_i$ and $c_j$.\n",
    "\n",
    "**Calinski-Harabasz Index** - this index measures the the ratio between the sum of between-clusters dispersion to within-cluster dispersion, where higher values are better indicating more cluster separation. The Calinski-Harabasz Index is defined as:\n",
    "$CH = \\frac{B_k / (k - 1)}{W_k / (N - k)}$  \n",
    "- $N$ is the number of points\n",
    "- $B_k$ is the dispersion matrix between clusters \n",
    "- $W_k$ is the dispersion matrix within cluster k\n",
    "- $k$ is the number of clusters\n",
    "\n",
    "**Adjusted Rand Index** - this index measures the difference between the ground truth and model outcome, where values range from -1(random labeling) to 1(correct labeling). The adjusted rand index is defined as: $ARI = \\frac{RI - Expected_RI}{Max_RI - Expected_RI}$  \n",
    "- $RI$ is the Rand Index \n",
    "- $Expected_RI$ is the expected Rand Index of random labeling,\n",
    "- $Max_RI$ is the maximum Rand Index value.\n",
    "\n",
    "\n",
    "**Normalized Mutual Information** - a normalized value, which quantifies the amount of information obtained about one random variable through another, where values range from 0(no mutual information) to 1(perfect correlation).The Normalized Mutual Information (NMI) between two clusterings (U) and (V) is calculated as: $NMI(U, V) = \\frac{2 \\cdot I(U, V)}{H(U) + H(V)}$\n",
    "\n",
    "- $I(U, V)$ is the mutual information between $U$ and $V$\n",
    "- $H(U)$ and $H(V)$ are the entropies of $U$ and $V$"
   ]
  },
  {
   "cell_type": "markdown",
   "metadata": {},
   "source": [
    "# Ethics & Privacy"
   ]
  },
  {
   "cell_type": "markdown",
   "metadata": {},
   "source": [
    "\n",
    "## Data Science Ethics Checklist\n",
    "\n",
    "[![Deon badge](https://img.shields.io/badge/ethics%20checklist-deon-brightgreen.svg?style=popout-square)](http://deon.drivendata.org/)\n",
    "\n",
    "## A. Data Collection\n",
    " - [ ] **A.1 Informed consent**: If there are human subjects, have they given informed consent, where subjects affirmatively opt-in and have a clear understanding of the data uses to which they consent?\n",
    " - [ ] **A.2 Collection bias**: Have we considered sources of bias that could be introduced during data collection and survey design and taken steps to mitigate those?\n",
    " - [ ] **A.3 Limit PII exposure**: Have we considered ways to minimize exposure of personally identifiable information (PII) for example through anonymization or not collecting information that isn't relevant for analysis?\n",
    " - [ ] **A.4 Downstream bias mitigation**: Have we considered ways to enable testing downstream results for biased outcomes (e.g., collecting data on protected group status like race or gender)?\n",
    "\n",
    "## B. Data Storage\n",
    " - [ ] **B.1 Data security**: Do we have a plan to protect and secure data (e.g., encryption at rest and in transit, access controls on internal users and third parties, access logs, and up-to-date software)?\n",
    " - [ ] **B.2 Right to be forgotten**: Do we have a mechanism through which an individual can request their personal information be removed?\n",
    " - [ ] **B.3 Data retention plan**: Is there a schedule or plan to delete the data after it is no longer needed?\n",
    "\n",
    "## C. Analysis\n",
    " - [ ] **C.1 Missing perspectives**: Have we sought to address blindspots in the analysis through engagement with relevant stakeholders (e.g., checking assumptions and discussing implications with affected communities and subject matter experts)?\n",
    " - [ ] **C.2 Dataset bias**: Have we examined the data for possible sources of bias and taken steps to mitigate or address these biases (e.g., stereotype perpetuation, confirmation bias, imbalanced classes, or omitted confounding variables)?\n",
    " - [ ] **C.3 Honest representation**: Are our visualizations, summary statistics, and reports designed to honestly represent the underlying data?\n",
    " - [ ] **C.4 Privacy in analysis**: Have we ensured that data with PII are not used or displayed unless necessary for the analysis?\n",
    " - [ ] **C.5 Auditability**: Is the process of generating the analysis well documented and reproducible if we discover issues in the future?\n",
    "\n",
    "## D. Modeling\n",
    " - [ ] **D.1 Proxy discrimination**: Have we ensured that the model does not rely on variables or proxies for variables that are unfairly discriminatory?\n",
    " - [ ] **D.2 Fairness across groups**: Have we tested model results for fairness with respect to different affected groups (e.g., tested for disparate error rates)?\n",
    " - [ ] **D.3 Metric selection**: Have we considered the effects of optimizing for our defined metrics and considered additional metrics?\n",
    " - [ ] **D.4 Explainability**: Can we explain in understandable terms a decision the model made in cases where a justification is needed?\n",
    " - [ ] **D.5 Communicate bias**: Have we communicated the shortcomings, limitations, and biases of the model to relevant stakeholders in ways that can be generally understood?\n",
    "\n",
    "## E. Deployment\n",
    " - [ ] **E.1 Monitoring and evaluation**: How are we planning to monitor the model and its impacts after it is deployed (e.g., performance monitoring, regular audit of sample predictions, human review of high-stakes decisions, reviewing downstream impacts of errors or low-confidence decisions, testing for concept drift)?\n",
    " - [ ] **E.2 Redress**: Have we discussed with our organization a plan for response if users are harmed by the results (e.g., how does the data science team evaluate these cases and update analysis and models to prevent future harm)?\n",
    " - [ ] **E.3 Roll back**: Is there a way to turn off or roll back the model in production if necessary?\n",
    " - [ ] **E.4 Unintended use**: Have we taken steps to identify and prevent unintended uses and abuse of the model and do we have a plan to monitor these once the model is deployed?\n",
    "\n",
    "*Data Science Ethics Checklist generated with [deon](http://deon.drivendata.org).*"
   ]
  },
  {
   "cell_type": "markdown",
   "metadata": {},
   "source": [
    "# Team Expectations "
   ]
  },
  {
   "cell_type": "markdown",
   "metadata": {},
   "source": [
    "* *Meet once a week, either synchronous or asynchronous*\n",
    "* *Adhere to ethical and privacy guidelines*\n",
    "* *Complete milestones on their date with flexibility in mind*\n",
    "* *Communicate any updates or obstacles through Discord or email*\n",
    "* *Deliver confident results*"
   ]
  },
  {
   "cell_type": "markdown",
   "metadata": {},
   "source": [
    "# Project Timeline Proposal"
   ]
  },
  {
   "cell_type": "markdown",
   "metadata": {},
   "source": [
    "| Meeting Date  | Meeting Time| Completed Before Meeting  | Discuss at Meeting |\n",
    "|---|---|---|---|\n",
    "| 2/15  |  6 PM |  Brainstorm topics/questions (all)  | Determine best form of communication; Discuss and decide on final project topic; discuss hypothesis; begin background research | \n",
    "| 2/17  |  4 PM |  Do background research on topic and potential algorithms (all) | Discuss ideal dataset(s) and ethics; draft project proposal | \n",
    "| 2/20  | 6 PM  | Edit, finalize, and submit proposal; Search for datasets (Olimpia)  | Discuss Wrangling and possible analytical approaches; Assign group members to lead each specific part   |\n",
    "| 2/23  | 6 PM  | Import & Wrangle Data ,do some EDA (Adolfo) | Review/Edit wrangling/EDA; Discuss Analysis Plan   |\n",
    "| 2/28  | 4 PM  | Finalize wrangling/EDA; Begin programming for project (Vladimir) | Discuss/edit project code |\n",
    "| 3/06  | 6 PM  | Finalize machine learning and neural network | Discuss/edit project code|\n",
    "| 3/13  | 4 PM  | Complete analysis; Draft results/conclusion/discussion (all)| Discuss/edit full project; Complete project |\n",
    "| 3/19  | Before 11:59 PM  | NA | Turn in Final Project  |"
   ]
  },
  {
   "cell_type": "markdown",
   "metadata": {},
   "source": [
    "# Footnotes\n",
    "\n",
    "<a name=\"balnote\"></a>[1](#bal): Bal, A., Banerjee, M., Chakrabarti, A., & Sharma, P. (2022). MRI Brain Tumor Segmentation and Analysis using Rough-Fuzzy C-Means and Shape Based Properties. Journal of King Saud University - Computer and Information Sciences, 34(2), 115–133. https://doi.org/10.1016/j.jksuci.2018.11.001 \n",
    "\n",
    "<a name=\"BRATS1\"></a>[2](#BRATS1): B. H. Menze, A. Jakab, S. Bauer, J. Kalpathy-Cramer, K. Farahani, J. Kirby, et al. \"The Multimodal Brain Tumor Image Segmentation Benchmark (BRATS)\", IEEE Transactions on Medical Imaging 34(10), 1993-2024 (2015) DOI: 10.1109/TMI.2014.2377694 \n",
    "\n",
    "<a name=\"CNN\"></a>[3](#CNN): Bhandari, A., et al. (2020) \"Convolutional neural networks for brain tumour segmentation,\" Insights Imaging pp. 11-77 https://doi.org/10.1186/s13244-020-00869-4\n",
    "\n",
    "<a name=\"3D-U-NET\"></a>[4](#3D-U-NET): Çiçek, Özgün, et al. (2016) \"3D U-Net: Learning Dense Volumetric Segmentation from Sparse Annotation,\" arXiv, https://arxiv.org/abs/1606.06650\n",
    "\n",
    "<a name=\"threshold\"></a>[5](#threshold): P. Natarajan, et al. (2012) \"Tumor detection using threshold operation in MRI brain images,\" IEEE International Conference on Computational Intelligence and Computing Research, Coimbatore, India, pp. 1-4, [doi: 10.1109/ICCIC.2012.6510299](https://ieeexplore.ieee.org/document/6510299/metrics#metrics)<br> \n",
    "\n",
    "<a name=\"U-NET\"></a>[6](#U-NET): Ronneberger, Olaf, et al. (2015) \"U-Net: Convolutional Networks for Biomedical Image Segmentation,\" arXiv, https://doi.org/10.48550/arXiv.1505.04597\n",
    "\n",
    "<a name=\"BRATS2\"></a>[7](#BRATS2): S. Bakas, H. Akbari, A. Sotiras, M. Bilello, M. Rozycki, J.S. Kirby, et al. (2017) \"Advancing The Cancer Genome Atlas glioma MRI collections with expert segmentation labels and radiomic features,\" Nature Scientific Data, 4:170117 DOI: 10.1038/sdata.2017.117\n",
    "\n",
    "<a name=\"BRATS3\"></a>[8](#BRATS3): S. Bakas, M. Reyes, A. Jakab, S. Bauer, M. Rempfler, A. Crimi, et al., \"Identifying the Best Machine Learning Algorithms for Brain Tumor Segmentation, Progression Assessment, and Overall Survival Prediction in the BRATS Challenge\", arXiv preprint arXiv:1811.02629 (2018)\n"
   ]
  }
 ],
 
 "metadata": {
  "kernelspec": {
   "display_name": "Python 3 (ipykernel)",
   "language": "python",
   "name": "python3"
  },
  "language_info": {
   "codemirror_mode": {
    "name": "ipython",
    "version": 3
   },
   "file_extension": ".py",
   "mimetype": "text/x-python",
   "name": "python",
   "nbconvert_exporter": "python",
   "pygments_lexer": "ipython3",
   "version": "3.10.0"
  }
 },
 "nbformat": 4,
 "nbformat_minor": 2
}
